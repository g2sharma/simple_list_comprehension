{
 "cells": [
  {
   "cell_type": "markdown",
   "metadata": {},
   "source": [
    "Author: Gaurav Sharma\n",
    "This problem was found on the LeetCode website. Initially I solved using an inefficient method with for/if else before experimenting with a simpler list comprehension solution. \n",
    "\n",
    "Problem:\n",
    "Given an array of integers, return indices of the two numbers such that they add up to a specific target.\n",
    "\n",
    "You may assume that each input would have exactly one solution, and you may not use the same element twice.\n",
    "\n",
    "Example:\n",
    "Given nums = [2, 7, 11, 15], target = 9,\n",
    "\n",
    "Because nums[0] + nums[1] = 2 + 7 = 9,\n",
    "return [0, 1]."
   ]
  },
  {
   "cell_type": "code",
   "execution_count": 131,
   "metadata": {},
   "outputs": [
    {
     "name": "stdout",
     "output_type": "stream",
     "text": [
      "[4, 5]\n"
     ]
    }
   ],
   "source": [
    "#List comprehension solution \n",
    "def add_nums2(nums, targ):\n",
    "    empty_idx = [[i,j] for i in range(len(nums)) for j in range(len(nums)) if j != i and nums[i] + nums[j] == targ][0]\n",
    "    print(empty_idx)\n",
    "    \n",
    "mynums2 = [1,3,4,5,7,9,19]\n",
    "add_nums2(mynums2, 16)\n",
    "            "
   ]
  },
  {
   "cell_type": "code",
   "execution_count": 133,
   "metadata": {},
   "outputs": [
    {
     "name": "stdout",
     "output_type": "stream",
     "text": [
      "[9, 19] [5, 6]\n"
     ]
    }
   ],
   "source": [
    "#Longer solution \n",
    "import numpy as np\n",
    "import pandas as pd\n",
    "def add_nums2(nums, targ):\n",
    "    for j in range(len(nums)):\n",
    "        empty_stk,empty_idx = [],[]\n",
    "        empty_stk.append(nums[j])\n",
    "        empty_idx.append(j)\n",
    "        for i in range(len(nums)):\n",
    "            if i != empty_idx:\n",
    "                empty_stk.append(nums[i])\n",
    "                empty_idx.append(i)\n",
    "                if sum(empty_stk) == targ and len(empty_stk)==2:\n",
    "                    print(empty_stk, empty_idx)\n",
    "                    return\n",
    "                else:\n",
    "                    empty_idx.pop()\n",
    "                    empty_stk.pop()\n",
    "            \n",
    "        \n",
    "        \n",
    "        \n",
    "mynums2 = [1,3,4,5,7,9,19]\n",
    "add_nums2(mynums2, 28)"
   ]
  },
  {
   "cell_type": "code",
   "execution_count": null,
   "metadata": {
    "collapsed": true
   },
   "outputs": [],
   "source": []
  }
 ],
 "metadata": {
  "kernelspec": {
   "display_name": "Python 3",
   "language": "python",
   "name": "python3"
  },
  "language_info": {
   "codemirror_mode": {
    "name": "ipython",
    "version": 3
   },
   "file_extension": ".py",
   "mimetype": "text/x-python",
   "name": "python",
   "nbconvert_exporter": "python",
   "pygments_lexer": "ipython3",
   "version": "3.5.4"
  }
 },
 "nbformat": 4,
 "nbformat_minor": 2
}
